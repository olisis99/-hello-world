{
 "cells": [
  {
   "cell_type": "code",
   "execution_count": 1,
   "metadata": {},
   "outputs": [
    {
     "data": {
      "text/html": [
       "<div>\n",
       "<style scoped>\n",
       "    .dataframe tbody tr th:only-of-type {\n",
       "        vertical-align: middle;\n",
       "    }\n",
       "\n",
       "    .dataframe tbody tr th {\n",
       "        vertical-align: top;\n",
       "    }\n",
       "\n",
       "    .dataframe thead th {\n",
       "        text-align: right;\n",
       "    }\n",
       "</style>\n",
       "<table border=\"1\" class=\"dataframe\">\n",
       "  <thead>\n",
       "    <tr style=\"text-align: right;\">\n",
       "      <th></th>\n",
       "      <th>PassengerId</th>\n",
       "      <th>Survived</th>\n",
       "      <th>Pclass</th>\n",
       "      <th>Name</th>\n",
       "      <th>Sex</th>\n",
       "      <th>Age</th>\n",
       "      <th>SibSp</th>\n",
       "      <th>Parch</th>\n",
       "      <th>Ticket</th>\n",
       "      <th>Fare</th>\n",
       "      <th>Cabin</th>\n",
       "      <th>Embarked</th>\n",
       "    </tr>\n",
       "  </thead>\n",
       "  <tbody>\n",
       "    <tr>\n",
       "      <th>0</th>\n",
       "      <td>1</td>\n",
       "      <td>0</td>\n",
       "      <td>3</td>\n",
       "      <td>Braund, Mr. Owen Harris</td>\n",
       "      <td>male</td>\n",
       "      <td>22.0</td>\n",
       "      <td>1</td>\n",
       "      <td>0</td>\n",
       "      <td>A/5 21171</td>\n",
       "      <td>7.2500</td>\n",
       "      <td>NaN</td>\n",
       "      <td>S</td>\n",
       "    </tr>\n",
       "    <tr>\n",
       "      <th>1</th>\n",
       "      <td>2</td>\n",
       "      <td>1</td>\n",
       "      <td>1</td>\n",
       "      <td>Cumings, Mrs. John Bradley (Florence Briggs Th...</td>\n",
       "      <td>female</td>\n",
       "      <td>38.0</td>\n",
       "      <td>1</td>\n",
       "      <td>0</td>\n",
       "      <td>PC 17599</td>\n",
       "      <td>71.2833</td>\n",
       "      <td>C85</td>\n",
       "      <td>C</td>\n",
       "    </tr>\n",
       "    <tr>\n",
       "      <th>2</th>\n",
       "      <td>3</td>\n",
       "      <td>1</td>\n",
       "      <td>3</td>\n",
       "      <td>Heikkinen, Miss. Laina</td>\n",
       "      <td>female</td>\n",
       "      <td>26.0</td>\n",
       "      <td>0</td>\n",
       "      <td>0</td>\n",
       "      <td>STON/O2. 3101282</td>\n",
       "      <td>7.9250</td>\n",
       "      <td>NaN</td>\n",
       "      <td>S</td>\n",
       "    </tr>\n",
       "    <tr>\n",
       "      <th>3</th>\n",
       "      <td>4</td>\n",
       "      <td>1</td>\n",
       "      <td>1</td>\n",
       "      <td>Futrelle, Mrs. Jacques Heath (Lily May Peel)</td>\n",
       "      <td>female</td>\n",
       "      <td>35.0</td>\n",
       "      <td>1</td>\n",
       "      <td>0</td>\n",
       "      <td>113803</td>\n",
       "      <td>53.1000</td>\n",
       "      <td>C123</td>\n",
       "      <td>S</td>\n",
       "    </tr>\n",
       "    <tr>\n",
       "      <th>4</th>\n",
       "      <td>5</td>\n",
       "      <td>0</td>\n",
       "      <td>3</td>\n",
       "      <td>Allen, Mr. William Henry</td>\n",
       "      <td>male</td>\n",
       "      <td>35.0</td>\n",
       "      <td>0</td>\n",
       "      <td>0</td>\n",
       "      <td>373450</td>\n",
       "      <td>8.0500</td>\n",
       "      <td>NaN</td>\n",
       "      <td>S</td>\n",
       "    </tr>\n",
       "  </tbody>\n",
       "</table>\n",
       "</div>"
      ],
      "text/plain": [
       "   PassengerId  Survived  Pclass  \\\n",
       "0            1         0       3   \n",
       "1            2         1       1   \n",
       "2            3         1       3   \n",
       "3            4         1       1   \n",
       "4            5         0       3   \n",
       "\n",
       "                                                Name     Sex   Age  SibSp  \\\n",
       "0                            Braund, Mr. Owen Harris    male  22.0      1   \n",
       "1  Cumings, Mrs. John Bradley (Florence Briggs Th...  female  38.0      1   \n",
       "2                             Heikkinen, Miss. Laina  female  26.0      0   \n",
       "3       Futrelle, Mrs. Jacques Heath (Lily May Peel)  female  35.0      1   \n",
       "4                           Allen, Mr. William Henry    male  35.0      0   \n",
       "\n",
       "   Parch            Ticket     Fare Cabin Embarked  \n",
       "0      0         A/5 21171   7.2500   NaN        S  \n",
       "1      0          PC 17599  71.2833   C85        C  \n",
       "2      0  STON/O2. 3101282   7.9250   NaN        S  \n",
       "3      0            113803  53.1000  C123        S  \n",
       "4      0            373450   8.0500   NaN        S  "
      ]
     },
     "execution_count": 1,
     "metadata": {},
     "output_type": "execute_result"
    }
   ],
   "source": [
    "#titanic에서 데이터 분석한 결과를 가지고 데이터를 전처리 한후 Xgboost를 사용해서 예측률을 높여본다.\n",
    "# Xgboost에서 하이퍼파라미터를 어떻게 조정할지에 대한 방법을 연습한다.\n",
    "# 여기서는 Xgboost model에 대한 이해를 높이는데 중점을 둔다.\n",
    "# grid_search\n",
    "# 2020.5.12\n",
    "\n",
    "import numpy as np\n",
    "import pandas as pd\n",
    "import seaborn as sns\n",
    "import matplotlib.pyplot as plt\n",
    "from sklearn.model_selection import train_test_split\n",
    "from sklearn.metrics import accuracy_score, classification_report, confusion_matrix, precision_score, recall_score\n",
    "from sklearn.metrics import f1_score, roc_auc_score\n",
    "# 사이킷런 래퍼 XGBoost 클래스인 XGBClassifier 임포트\n",
    "from xgboost import XGBClassifier\n",
    "import xgboost as xgb\n",
    "from bayes_opt import BayesianOptimization\n",
    "\n",
    "titanic_data = pd.read_csv('titanic_train.csv')\n",
    "titanic_data.head()"
   ]
  },
  {
   "cell_type": "code",
   "execution_count": 2,
   "metadata": {},
   "outputs": [
    {
     "data": {
      "text/html": [
       "<div>\n",
       "<style scoped>\n",
       "    .dataframe tbody tr th:only-of-type {\n",
       "        vertical-align: middle;\n",
       "    }\n",
       "\n",
       "    .dataframe tbody tr th {\n",
       "        vertical-align: top;\n",
       "    }\n",
       "\n",
       "    .dataframe thead th {\n",
       "        text-align: right;\n",
       "    }\n",
       "</style>\n",
       "<table border=\"1\" class=\"dataframe\">\n",
       "  <thead>\n",
       "    <tr style=\"text-align: right;\">\n",
       "      <th></th>\n",
       "      <th>Survived</th>\n",
       "      <th>Pclass</th>\n",
       "      <th>Sex</th>\n",
       "      <th>Age</th>\n",
       "      <th>SibSp</th>\n",
       "      <th>Parch</th>\n",
       "      <th>Fare</th>\n",
       "      <th>Embarked</th>\n",
       "      <th>H_Cabin</th>\n",
       "    </tr>\n",
       "  </thead>\n",
       "  <tbody>\n",
       "    <tr>\n",
       "      <th>0</th>\n",
       "      <td>0</td>\n",
       "      <td>3</td>\n",
       "      <td>male</td>\n",
       "      <td>22.0</td>\n",
       "      <td>1</td>\n",
       "      <td>0</td>\n",
       "      <td>7.2500</td>\n",
       "      <td>S</td>\n",
       "      <td>N</td>\n",
       "    </tr>\n",
       "    <tr>\n",
       "      <th>1</th>\n",
       "      <td>1</td>\n",
       "      <td>1</td>\n",
       "      <td>female</td>\n",
       "      <td>38.0</td>\n",
       "      <td>1</td>\n",
       "      <td>0</td>\n",
       "      <td>71.2833</td>\n",
       "      <td>C</td>\n",
       "      <td>C</td>\n",
       "    </tr>\n",
       "    <tr>\n",
       "      <th>2</th>\n",
       "      <td>1</td>\n",
       "      <td>3</td>\n",
       "      <td>female</td>\n",
       "      <td>26.0</td>\n",
       "      <td>0</td>\n",
       "      <td>0</td>\n",
       "      <td>7.9250</td>\n",
       "      <td>S</td>\n",
       "      <td>N</td>\n",
       "    </tr>\n",
       "    <tr>\n",
       "      <th>3</th>\n",
       "      <td>1</td>\n",
       "      <td>1</td>\n",
       "      <td>female</td>\n",
       "      <td>35.0</td>\n",
       "      <td>1</td>\n",
       "      <td>0</td>\n",
       "      <td>53.1000</td>\n",
       "      <td>S</td>\n",
       "      <td>C</td>\n",
       "    </tr>\n",
       "    <tr>\n",
       "      <th>4</th>\n",
       "      <td>0</td>\n",
       "      <td>3</td>\n",
       "      <td>male</td>\n",
       "      <td>35.0</td>\n",
       "      <td>0</td>\n",
       "      <td>0</td>\n",
       "      <td>8.0500</td>\n",
       "      <td>S</td>\n",
       "      <td>N</td>\n",
       "    </tr>\n",
       "  </tbody>\n",
       "</table>\n",
       "</div>"
      ],
      "text/plain": [
       "   Survived  Pclass     Sex   Age  SibSp  Parch     Fare Embarked H_Cabin\n",
       "0         0       3    male  22.0      1      0   7.2500        S       N\n",
       "1         1       1  female  38.0      1      0  71.2833        C       C\n",
       "2         1       3  female  26.0      0      0   7.9250        S       N\n",
       "3         1       1  female  35.0      1      0  53.1000        S       C\n",
       "4         0       3    male  35.0      0      0   8.0500        S       N"
      ]
     },
     "execution_count": 2,
     "metadata": {},
     "output_type": "execute_result"
    }
   ],
   "source": [
    "#불필요한 요소 삭제\n",
    "titanic_data = titanic_data.drop(['PassengerId', 'Name', 'Ticket'], axis = 1)\n",
    "# cabin정보의 missing을 N으로 선실번호에서 앞자만 사용\n",
    "titanic_data.Cabin.fillna('N', inplace = True)\n",
    "titanic_data['H_Cabin'] = titanic_data['Cabin'].apply(lambda x : x[0])\n",
    "#missing value 처리\n",
    "#Age는 평균값으로 처리\n",
    "titanic_data.Age.fillna(titanic_data.Age.mean(), inplace = True)\n",
    "#Cabin은 삭제하고 H_cabin사용\n",
    "titanic_data = titanic_data.drop(['Cabin'], axis = 1)\n",
    "#Embarked는 가장 많은  S로\n",
    "titanic_data.Embarked.fillna('S', inplace = True)\n",
    "titanic_data.head()"
   ]
  },
  {
   "cell_type": "code",
   "execution_count": 3,
   "metadata": {},
   "outputs": [
    {
     "data": {
      "text/html": [
       "<div>\n",
       "<style scoped>\n",
       "    .dataframe tbody tr th:only-of-type {\n",
       "        vertical-align: middle;\n",
       "    }\n",
       "\n",
       "    .dataframe tbody tr th {\n",
       "        vertical-align: top;\n",
       "    }\n",
       "\n",
       "    .dataframe thead th {\n",
       "        text-align: right;\n",
       "    }\n",
       "</style>\n",
       "<table border=\"1\" class=\"dataframe\">\n",
       "  <thead>\n",
       "    <tr style=\"text-align: right;\">\n",
       "      <th></th>\n",
       "      <th>Survived</th>\n",
       "      <th>Pclass</th>\n",
       "      <th>Sex</th>\n",
       "      <th>Age</th>\n",
       "      <th>SibSp</th>\n",
       "      <th>Parch</th>\n",
       "      <th>Fare</th>\n",
       "      <th>Embarked_Q</th>\n",
       "      <th>Embarked_S</th>\n",
       "      <th>Cabin_B</th>\n",
       "      <th>Cabin_C</th>\n",
       "      <th>Cabin_D</th>\n",
       "      <th>Cabin_E</th>\n",
       "      <th>Cabin_F</th>\n",
       "      <th>Cabin_G</th>\n",
       "      <th>Cabin_N</th>\n",
       "      <th>Cabin_T</th>\n",
       "    </tr>\n",
       "  </thead>\n",
       "  <tbody>\n",
       "    <tr>\n",
       "      <th>0</th>\n",
       "      <td>0</td>\n",
       "      <td>3</td>\n",
       "      <td>0.0</td>\n",
       "      <td>22.0</td>\n",
       "      <td>1</td>\n",
       "      <td>0</td>\n",
       "      <td>7.2500</td>\n",
       "      <td>0</td>\n",
       "      <td>1</td>\n",
       "      <td>0</td>\n",
       "      <td>0</td>\n",
       "      <td>0</td>\n",
       "      <td>0</td>\n",
       "      <td>0</td>\n",
       "      <td>0</td>\n",
       "      <td>1</td>\n",
       "      <td>0</td>\n",
       "    </tr>\n",
       "    <tr>\n",
       "      <th>1</th>\n",
       "      <td>1</td>\n",
       "      <td>1</td>\n",
       "      <td>1.0</td>\n",
       "      <td>38.0</td>\n",
       "      <td>1</td>\n",
       "      <td>0</td>\n",
       "      <td>71.2833</td>\n",
       "      <td>0</td>\n",
       "      <td>0</td>\n",
       "      <td>0</td>\n",
       "      <td>1</td>\n",
       "      <td>0</td>\n",
       "      <td>0</td>\n",
       "      <td>0</td>\n",
       "      <td>0</td>\n",
       "      <td>0</td>\n",
       "      <td>0</td>\n",
       "    </tr>\n",
       "    <tr>\n",
       "      <th>2</th>\n",
       "      <td>1</td>\n",
       "      <td>3</td>\n",
       "      <td>1.0</td>\n",
       "      <td>26.0</td>\n",
       "      <td>0</td>\n",
       "      <td>0</td>\n",
       "      <td>7.9250</td>\n",
       "      <td>0</td>\n",
       "      <td>1</td>\n",
       "      <td>0</td>\n",
       "      <td>0</td>\n",
       "      <td>0</td>\n",
       "      <td>0</td>\n",
       "      <td>0</td>\n",
       "      <td>0</td>\n",
       "      <td>1</td>\n",
       "      <td>0</td>\n",
       "    </tr>\n",
       "    <tr>\n",
       "      <th>3</th>\n",
       "      <td>1</td>\n",
       "      <td>1</td>\n",
       "      <td>1.0</td>\n",
       "      <td>35.0</td>\n",
       "      <td>1</td>\n",
       "      <td>0</td>\n",
       "      <td>53.1000</td>\n",
       "      <td>0</td>\n",
       "      <td>1</td>\n",
       "      <td>0</td>\n",
       "      <td>1</td>\n",
       "      <td>0</td>\n",
       "      <td>0</td>\n",
       "      <td>0</td>\n",
       "      <td>0</td>\n",
       "      <td>0</td>\n",
       "      <td>0</td>\n",
       "    </tr>\n",
       "    <tr>\n",
       "      <th>4</th>\n",
       "      <td>0</td>\n",
       "      <td>3</td>\n",
       "      <td>0.0</td>\n",
       "      <td>35.0</td>\n",
       "      <td>0</td>\n",
       "      <td>0</td>\n",
       "      <td>8.0500</td>\n",
       "      <td>0</td>\n",
       "      <td>1</td>\n",
       "      <td>0</td>\n",
       "      <td>0</td>\n",
       "      <td>0</td>\n",
       "      <td>0</td>\n",
       "      <td>0</td>\n",
       "      <td>0</td>\n",
       "      <td>1</td>\n",
       "      <td>0</td>\n",
       "    </tr>\n",
       "  </tbody>\n",
       "</table>\n",
       "</div>"
      ],
      "text/plain": [
       "   Survived  Pclass  Sex   Age  SibSp  Parch     Fare  Embarked_Q  Embarked_S  \\\n",
       "0         0       3  0.0  22.0      1      0   7.2500           0           1   \n",
       "1         1       1  1.0  38.0      1      0  71.2833           0           0   \n",
       "2         1       3  1.0  26.0      0      0   7.9250           0           1   \n",
       "3         1       1  1.0  35.0      1      0  53.1000           0           1   \n",
       "4         0       3  0.0  35.0      0      0   8.0500           0           1   \n",
       "\n",
       "   Cabin_B  Cabin_C  Cabin_D  Cabin_E  Cabin_F  Cabin_G  Cabin_N  Cabin_T  \n",
       "0        0        0        0        0        0        0        1        0  \n",
       "1        0        1        0        0        0        0        0        0  \n",
       "2        0        0        0        0        0        0        1        0  \n",
       "3        0        1        0        0        0        0        0        0  \n",
       "4        0        0        0        0        0        0        1        0  "
      ]
     },
     "execution_count": 3,
     "metadata": {},
     "output_type": "execute_result"
    }
   ],
   "source": [
    "# 중요한 요소이긴 하지만 2이상은 데이터가 적어서, 있으면 1 없으면 0으로\n",
    "titanic_data['SibSp'] = titanic_data['SibSp'].apply(lambda x : 1 if x > 0 else 0)\n",
    "\n",
    "#분류 값들을 수치값으로 변경\n",
    "titanic_data.Sex.replace({'male': 0.0, 'female': 1.0}, inplace= True)\n",
    "\n",
    "#Dependents 값을 get_dummies 함수를 이용해서 수치로 변경 OneHotEncode를 사용해도 된다.\n",
    "#drop first를 True로 해서 dummy trap을 피한다.\n",
    "dummies = pd.get_dummies(titanic_data['Embarked'], prefix='Embarked', drop_first=True)\n",
    "titanic_data = pd.concat([titanic_data, dummies], axis=1)\n",
    "titanic_data = titanic_data.drop(['Embarked'],  axis=1)\n",
    "\n",
    "dummies = pd.get_dummies(titanic_data['H_Cabin'], prefix='Cabin', drop_first=True)\n",
    "titanic_data = pd.concat([titanic_data, dummies], axis=1)\n",
    "titanic_data = titanic_data.drop(['H_Cabin'],  axis=1)\n",
    "\n",
    "# 더 많은 column을 보여주도록 변경\n",
    "pd.set_option('display.max_columns', 100) \n",
    "titanic_data.head()"
   ]
  },
  {
   "cell_type": "code",
   "execution_count": 4,
   "metadata": {},
   "outputs": [],
   "source": [
    "#Test를 위한 데이터 생성\n",
    "y_data = titanic_data.Survived\n",
    "x_data = titanic_data.drop('Survived', axis = 1)\n",
    "#test 와 train set 만들기\n",
    "X_train, X_test, y_train, y_test= train_test_split(x_data, y_data, test_size=0.2, random_state=123)"
   ]
  },
  {
   "cell_type": "code",
   "execution_count": 5,
   "metadata": {},
   "outputs": [],
   "source": [
    "# 평가 함수 선언\n",
    "def get_clf_eval(y_test, pred=None, pred_proba=None):\n",
    "    confusion = confusion_matrix( y_test, pred)\n",
    "    accuracy = accuracy_score(y_test , pred)\n",
    "    precision = precision_score(y_test , pred)\n",
    "    recall = recall_score(y_test , pred)\n",
    "    f1 = f1_score(y_test,pred)\n",
    "    # ROC-AUC 추가 \n",
    "    roc_auc = roc_auc_score(y_test, pred_proba)\n",
    "    print('오차 행렬')\n",
    "    print(confusion)\n",
    "    # ROC-AUC print 추가\n",
    "    print('정확도: {0:.4f}, 정밀도: {1:.4f}, 재현율: {2:.4f},\\\n",
    "    F1: {3:.4f}, AUC:{4:.4f}'.format(accuracy, precision, recall, f1, roc_auc))    "
   ]
  },
  {
   "cell_type": "code",
   "execution_count": 6,
   "metadata": {},
   "outputs": [
    {
     "name": "stdout",
     "output_type": "stream",
     "text": [
      "오차 행렬\n",
      "[[102  12]\n",
      " [ 12  53]]\n",
      "정확도: 0.8659, 정밀도: 0.8154, 재현율: 0.8154,    F1: 0.8154, AUC:0.9138\n"
     ]
    }
   ],
   "source": [
    "xgb_wrapper = XGBClassifier(n_estimators=400, learning_rate=0.1, max_depth=3, early_stopping_rounds=50)\n",
    "xgb_wrapper.fit(X_train, y_train)\n",
    "w_preds = xgb_wrapper.predict(X_test)\n",
    "w_pred_proba = xgb_wrapper.predict_proba(X_test)[:, 1]\n",
    "\n",
    "get_clf_eval(y_test , w_preds, w_pred_proba)"
   ]
  },
  {
   "cell_type": "code",
   "execution_count": 7,
   "metadata": {},
   "outputs": [
    {
     "name": "stdout",
     "output_type": "stream",
     "text": [
      "XGBClassifier(base_score=0.5, booster='gbtree', colsample_bylevel=1,\n",
      "              colsample_bynode=1, colsample_bytree=1, early_stopping_rounds=50,\n",
      "              gamma=0, learning_rate=0.1, max_delta_step=0, max_depth=3,\n",
      "              min_child_weight=1, missing=None, n_estimators=400, n_jobs=1,\n",
      "              nthread=None, objective='binary:logistic', random_state=0,\n",
      "              reg_alpha=0, reg_lambda=1, scale_pos_weight=1, seed=None,\n",
      "              silent=None, subsample=1, verbosity=1)\n"
     ]
    }
   ],
   "source": [
    "# xgb00st model의 파라미터들을 볼 수 있다.\n",
    "print(xgb_wrapper)"
   ]
  },
  {
   "cell_type": "markdown",
   "metadata": {},
   "source": [
    "# 파라미터 튜닝을위한 일반적인 접근법\n",
    "\n",
    "수행 할 다양한 단계는 다음과 같습니다.\n",
    "\n",
    "1. 상대적으로 높은 학습률(learning_rate)을 선택.\n",
    "일반적으로 0.1의 learning_rate는 작동하지만 0.05 ~ 0.3의 어딘가에서 다른 문제에 대해 작동합니다. 이 학습률에 대한 최적의 트리 수를 결정하십시오 . XGBoost는“cv”라고하는 매우 유용한 기능을 가지고 있는데, 이는 각 부스팅 반복마다 교차 유효성 검사를 수행하여 필요한 최적의 트리 수를 반환합니다.\n",
    "2. 결정된 학습 속도 및 트리 수에 대한 tree-specific parameters(max_depth, min_child_weight, gamma, subsample, colsample_bytree)를 조정\n",
    "트리를 정의하기 위해 다른 매개 변수를 선택할 수 있으며 여기에서 예를 들어 보겠습니다.\n",
    "3. regularization parameters(람다, 알파) 조정.\n",
    "  모델의 복잡성을 줄이고 성능을 향상 도움이 될 수 있습니다 \n",
    "4. 학습률 을 낮추고 최적의 매개 변수를 결정\n",
    "\n",
    "보다 자세한 단계별 접근 방식을 살펴 보겠습니다."
   ]
  },
  {
   "cell_type": "markdown",
   "metadata": {},
   "source": [
    "# Step 1: Fix learning rate and number of estimators for tuning tree-based parameters\n",
    "\n",
    "파라미터를 결정하려면 다른 파라미터의 초기 값을 설정해야합니다.\n",
    "\n",
    "1. max_depth = 5 : \n",
    " 3-10 사이 여야합니다. 5부터 시작했지만 다른 숫자를 선택할 수도 있습니다. 4-6은 좋은 출발점이 될 수 있습니다.\n",
    "2. min_child_weight = 1 : \n",
    "클래스의 불균형이 높고 leaf node의 그룹 크기가 작을수록 더 작은 값이 선택됩니다.\n",
    "3. gamma = 0 : \n",
    "0.1-0.2와 같은 더 작은 값도 시작할 수 있습니다. 이것은 나중에 조정될 것입니다.A smaller value like 0.1-0.2 can also be chosen for \n",
    "4. subsample, colsample_bytree = 0.8 : \n",
    "이것은 일반적으로 사용되는 시작 값입니다. 일반적인 값의 범위는 0.5-0.9입니다.\n",
    "5. scale_pos_weight = 1: \n",
    "높은 클래스 불균형으로 인해\n",
    "\n",
    "위의 모든 내용은 초기 추정치이며 나중에 조정될 것입니다. 여기에서 기본 학습 속도 0.1을 사용하고 xgboost의 cv 함수를 사용하여 최적의 트리 수를 확인하십시오."
   ]
  },
  {
   "cell_type": "code",
   "execution_count": 8,
   "metadata": {},
   "outputs": [
    {
     "name": "stdout",
     "output_type": "stream",
     "text": [
      "오차 행렬\n",
      "[[98 16]\n",
      " [12 53]]\n",
      "정확도: 0.8436, 정밀도: 0.7681, 재현율: 0.8154,    F1: 0.7910, AUC:0.9086\n",
      "              precision    recall  f1-score   support\n",
      "\n",
      "           0       0.89      0.86      0.88       114\n",
      "           1       0.77      0.82      0.79        65\n",
      "\n",
      "    accuracy                           0.84       179\n",
      "   macro avg       0.83      0.84      0.83       179\n",
      "weighted avg       0.85      0.84      0.84       179\n",
      "\n"
     ]
    },
    {
     "data": {
      "text/plain": [
       "<matplotlib.axes._subplots.AxesSubplot at 0x2648f8a5cc8>"
      ]
     },
     "execution_count": 8,
     "metadata": {},
     "output_type": "execute_result"
    },
    {
     "data": {
      "image/png": "[encoded data removed]",
      "text/plain": [
       "<Figure size 432x288 with 1 Axes>"
      ]
     },
     "metadata": {
      "needs_background": "light"
     },
     "output_type": "display_data"
    }
   ],
   "source": [
    "xgb1 = XGBClassifier(\n",
    " learning_rate =0.1,\n",
    " n_estimators=1000,\n",
    " max_depth=5,\n",
    " min_child_weight=1,\n",
    " gamma=0,\n",
    " subsample=0.8,\n",
    " colsample_bytree=0.8,\n",
    " objective= 'binary:logistic',\n",
    " nthread=4,\n",
    " scale_pos_weight=1,\n",
    " seed=27)\n",
    "xgb1.fit(X_train, y_train)\n",
    "xgb_pred = xgb1.predict(X_test)\n",
    "xgb_pred_proba = xgb1.predict_proba(X_test)[:, 1]\n",
    "\n",
    "get_clf_eval(y_test , xgb_pred, xgb_pred_proba)\n",
    "print(classification_report(y_test, xgb_pred))\n",
    "xgb.plot_importance(xgb1)"
   ]
  },
  {
   "cell_type": "markdown",
   "metadata": {},
   "source": [
    "# Step 2: Tune max_depth and min_child_weight\n",
    "    \n",
    "모델 결과에 가장 큰 영향을 미치므로 먼저 조정합니다. 먼저 더 넓은 범위를 설정 한 다음 더 작은 범위에 대해 다른 반복을 수행합니다.\n",
    "Important Note: I’ll be doing some heavy-duty grid searched in this section which can take 15-30 mins or even more time to run depending on your system. You can vary the number of values you are testing based on what your system can handle."
   ]
  },
  {
   "cell_type": "code",
   "execution_count": 10,
   "metadata": {},
   "outputs": [
    {
     "name": "stderr",
     "output_type": "stream",
     "text": [
      "C:\\Users\\Professor Lee\\anaconda3\\envs\\tf2\\lib\\site-packages\\sklearn\\model_selection\\_search.py:823: FutureWarning: The parameter 'iid' is deprecated in 0.22 and will be removed in 0.24.\n",
      "  \"removed in 0.24.\", FutureWarning\n"
     ]
    },
    {
     "name": "stdout",
     "output_type": "stream",
     "text": [
      "최적화 파라미터 : {'max_depth': 9, 'min_child_weight': 3}\n",
      "GridSearch_CV 최고정확도: 0.8559\n"
     ]
    }
   ],
   "source": [
    "from sklearn.model_selection import GridSearchCV\n",
    "\n",
    "param_test1 = { 'max_depth': [3, 5, 7, 9], 'min_child_weight': [1,3,5,7] } \n",
    "\n",
    "xgb2 = XGBClassifier(learning_rate =0.1, n_estimators=140, max_depth=5, min_child_weight=1, gamma=0, subsample=0.8, colsample_bytree=0.8,\n",
    "                     objective= 'binary:logistic', nthread=4, scale_pos_weight=1, seed=27)\n",
    "gsearch1 = GridSearchCV(xgb2, param_grid = param_test1, scoring='roc_auc',iid=False, cv=3)\n",
    "gsearch1.fit(X_train, y_train)\n",
    "\n",
    "print(\"최적화 파라미터 :\", gsearch1.best_params_)\n",
    "print(\"GridSearch_CV 최고정확도: {0:.4f}\".format(gsearch1.best_score_))"
   ]
  },
  {
   "cell_type": "markdown",
   "metadata": {},
   "source": [
    "여기에서는 12 개의 조합을 실행했습니다. \n",
    "이상적인 값은 MAX_DEPTH 9 및 min_child_weight 3 . 한 걸음 더 깊이 들어가서 최적의 값을 찾으십시오. \n",
    "간격이 2이기 때문에 최적의 값 위와 아래의 값 1을 검색합니다."
   ]
  },
  {
   "cell_type": "code",
   "execution_count": 10,
   "metadata": {},
   "outputs": [
    {
     "name": "stdout",
     "output_type": "stream",
     "text": [
      "최적화 파라미터 : {'max_depth': 9, 'min_child_weight': 4}\n",
      "GridSearch_CV 최고정확도: 0.8561\n"
     ]
    },
    {
     "name": "stderr",
     "output_type": "stream",
     "text": [
      "C:\\Users\\Professor Lee\\anaconda3\\envs\\tf2\\lib\\site-packages\\sklearn\\model_selection\\_search.py:823: FutureWarning: The parameter 'iid' is deprecated in 0.22 and will be removed in 0.24.\n",
      "  \"removed in 0.24.\", FutureWarning\n"
     ]
    }
   ],
   "source": [
    "param_test2 = { 'max_depth': [8, 9, 10], 'min_child_weight': [2,3,4] } \n",
    "\n",
    "xgb2 = XGBClassifier(learning_rate =0.1, n_estimators=140, max_depth=5, min_child_weight=1, gamma=0, subsample=0.8, colsample_bytree=0.8,objective= 'binary:logistic', nthread=4, scale_pos_weight=1, seed=27)\n",
    "gsearch2 = GridSearchCV(xgb2, param_grid = param_test2, scoring='roc_auc',iid=False, cv=3)\n",
    "gsearch2.fit(X_train, y_train)\n",
    "\n",
    "print(\"최적화 파라미터 :\", gsearch2.best_params_)\n",
    "print(\"GridSearch_CV 최고정확도: {0:.4f}\".format(gsearch2.best_score_))"
   ]
  },
  {
   "cell_type": "markdown",
   "metadata": {},
   "source": [
    "최적의 값을 얻을 MAX_DEPTH 9 및 min_child_weight 4 . 또한 CV 점수가 약간 증가하는 것을 볼 수 있습니다. \n",
    "모델 성능이 향상됨에 따라 성능이 약간 향상되는 것은 기하 급수적으로 어려워집니다."
   ]
  },
  {
   "cell_type": "markdown",
   "metadata": {},
   "source": [
    "# Step 3: gamma 조정\n",
    "gamma는 다양한 값을 취할 수 있지만 여기서 5 개의 값을 확인하겠습니다. 보다 정확한 값으로 들어갈 수 있습니다."
   ]
  },
  {
   "cell_type": "code",
   "execution_count": 11,
   "metadata": {},
   "outputs": [
    {
     "name": "stdout",
     "output_type": "stream",
     "text": [
      "최적화 파라미터 : {'gamma': 0.0}\n",
      "GridSearch_CV 최고정확도: 0.8561\n"
     ]
    },
    {
     "name": "stderr",
     "output_type": "stream",
     "text": [
      "C:\\Users\\Professor Lee\\anaconda3\\envs\\tf2\\lib\\site-packages\\sklearn\\model_selection\\_search.py:823: FutureWarning: The parameter 'iid' is deprecated in 0.22 and will be removed in 0.24.\n",
      "  \"removed in 0.24.\", FutureWarning\n"
     ]
    }
   ],
   "source": [
    "param_test3 = { 'gamma':[i/10.0 for i in range(0,5)]}\n",
    "\n",
    "xgb3 = XGBClassifier(learning_rate =0.1, n_estimators=140, max_depth=9, min_child_weight=4, gamma=0, subsample=0.8, colsample_bytree=0.8,objective= 'binary:logistic', nthread=4, scale_pos_weight=1, seed=27)\n",
    "gsearch3 = GridSearchCV(xgb3, param_grid = param_test3, scoring='roc_auc',iid=False, cv=3)\n",
    "gsearch3.fit(X_train, y_train)\n",
    "\n",
    "print(\"최적화 파라미터 :\", gsearch3.best_params_)\n",
    "print(\"GridSearch_CV 최고정확도: {0:.4f}\".format(gsearch3.best_score_))"
   ]
  },
  {
   "cell_type": "markdown",
   "metadata": {},
   "source": [
    "이것은 우리의 원래 gamma 값, 즉 0이 최적의 값임을 보여줍니다"
   ]
  },
  {
   "cell_type": "code",
   "execution_count": 12,
   "metadata": {},
   "outputs": [
    {
     "name": "stdout",
     "output_type": "stream",
     "text": [
      "Best Grid RF:0.8715\n",
      "              precision    recall  f1-score   support\n",
      "\n",
      "           0       0.91      0.89      0.90       114\n",
      "           1       0.81      0.85      0.83        65\n",
      "\n",
      "    accuracy                           0.87       179\n",
      "   macro avg       0.86      0.87      0.86       179\n",
      "weighted avg       0.87      0.87      0.87       179\n",
      "\n"
     ]
    }
   ],
   "source": [
    "#grid로 찾은 최적화 파라미터로 예측\n",
    "best_xgb = gsearch3.best_estimator_\n",
    "xgb_pred = best_xgb.predict(X_test)\n",
    "print(\"Best Grid RF:{0:.4f}\".format(accuracy_score(y_test,xgb_pred)))\n",
    "print(classification_report(y_test, xgb_pred))"
   ]
  },
  {
   "cell_type": "markdown",
   "metadata": {},
   "source": [
    "# Step 4: subsample 과 colsample_bytree 조정\n",
    "다음 단계는 다른 ubsample과 colsample_bytree 값을 시도하는 것입니다. 이를 2 단계로 수행하고 둘 다 시작하려면 0.6,0.7,0.8,0.9 값을 사용하십시오."
   ]
  },
  {
   "cell_type": "code",
   "execution_count": 13,
   "metadata": {},
   "outputs": [
    {
     "name": "stdout",
     "output_type": "stream",
     "text": [
      "최적화 파라미터 : {'colsample_bytree': 0.6, 'subsample': 0.9}\n",
      "GridSearch_CV 최고정확도: 0.8565\n"
     ]
    },
    {
     "name": "stderr",
     "output_type": "stream",
     "text": [
      "C:\\Users\\Professor Lee\\anaconda3\\envs\\tf2\\lib\\site-packages\\sklearn\\model_selection\\_search.py:823: FutureWarning: The parameter 'iid' is deprecated in 0.22 and will be removed in 0.24.\n",
      "  \"removed in 0.24.\", FutureWarning\n"
     ]
    }
   ],
   "source": [
    "param_test4 = {\n",
    " 'subsample':[i/10.0 for i in range(6,10)],\n",
    " 'colsample_bytree':[i/10.0 for i in range(6,10)]\n",
    "}\n",
    "xgb4 = XGBClassifier(learning_rate =0.1, n_estimators=140, max_depth=9, min_child_weight=4, gamma=0, subsample=0.8, colsample_bytree=0.8,objective= 'binary:logistic', nthread=4, scale_pos_weight=1, seed=27)\n",
    "gsearch4 = GridSearchCV(xgb4, param_grid = param_test4, scoring='roc_auc',iid=False, cv=3)\n",
    "gsearch4.fit(X_train, y_train)\n",
    "\n",
    "print(\"최적화 파라미터 :\", gsearch4.best_params_)\n",
    "print(\"GridSearch_CV 최고정확도: {0:.4f}\".format(gsearch4.best_score_))"
   ]
  },
  {
   "cell_type": "markdown",
   "metadata": {},
   "source": [
    "Now we should try values in 0.05 interval around these. colsample_bytree': 0.6, 'subsample': 0.9"
   ]
  },
  {
   "cell_type": "code",
   "execution_count": 14,
   "metadata": {},
   "outputs": [
    {
     "name": "stdout",
     "output_type": "stream",
     "text": [
      "최적화 파라미터 : {'colsample_bytree': 0.6, 'subsample': 0.9}\n",
      "GridSearch_CV 최고정확도: 0.8565\n"
     ]
    },
    {
     "name": "stderr",
     "output_type": "stream",
     "text": [
      "C:\\Users\\Professor Lee\\anaconda3\\envs\\tf2\\lib\\site-packages\\sklearn\\model_selection\\_search.py:823: FutureWarning: The parameter 'iid' is deprecated in 0.22 and will be removed in 0.24.\n",
      "  \"removed in 0.24.\", FutureWarning\n"
     ]
    }
   ],
   "source": [
    "param_test5 = {\n",
    " 'subsample':[i/100.0 for i in range(85,100,5)],\n",
    " 'colsample_bytree':[i/100.0 for i in range(55,70,5)]\n",
    "}\n",
    "xgb5 = XGBClassifier(learning_rate =0.1, n_estimators=140, max_depth=9, min_child_weight=4, gamma=0, subsample=0.9, colsample_bytree=0.6,objective= 'binary:logistic', nthread=4, scale_pos_weight=1, seed=27)\n",
    "gsearch5 = GridSearchCV(xgb5, param_grid = param_test5, scoring='roc_auc',iid=False, cv=3)\n",
    "gsearch5.fit(X_train, y_train)\n",
    "print(\"최적화 파라미터 :\", gsearch5.best_params_)\n",
    "print(\"GridSearch_CV 최고정확도: {0:.4f}\".format(gsearch5.best_score_))"
   ]
  },
  {
   "cell_type": "markdown",
   "metadata": {},
   "source": [
    "변화가 없다 따라서 최적은 {'colsample_bytree': 0.6, 'subsample': 0.9}"
   ]
  },
  {
   "cell_type": "markdown",
   "metadata": {},
   "source": [
    "# 5 단계 : 정규화 매개 변수 조정\n",
    "\n",
    "다음 단계는 정규화를 적용하여 과적 합을 줄이는 것입니다. 감마가 복잡성을 제어하는 ​​실질적인 방법을 제공하기 때문에 많은 사람들이이 매개 변수를 사용하지 않지만. 그러나 항상 시도해야합니다. 여기에서 'reg_alpha'값을 조정하고 다른 값의 'reg_lambda'를 시도하도록 당신에게 맡기십시오."
   ]
  },
  {
   "cell_type": "code",
   "execution_count": 15,
   "metadata": {},
   "outputs": [
    {
     "name": "stdout",
     "output_type": "stream",
     "text": [
      "최적화 파라미터 : {'reg_alpha': 0.01}\n",
      "GridSearch_CV 최고정확도: 0.8568\n"
     ]
    },
    {
     "name": "stderr",
     "output_type": "stream",
     "text": [
      "C:\\Users\\Professor Lee\\anaconda3\\envs\\tf2\\lib\\site-packages\\sklearn\\model_selection\\_search.py:823: FutureWarning: The parameter 'iid' is deprecated in 0.22 and will be removed in 0.24.\n",
      "  \"removed in 0.24.\", FutureWarning\n"
     ]
    }
   ],
   "source": [
    "#이거 조정하는것은 너무 길어서 한단계 건너뛰었다 . \n",
    "#이 부분은https://www.analyticsvidhya.com/blog/2016/03/complete-guide-parameter-tuning-xgboost-with-codes-python/ 참고\n",
    "param_test7 = {\n",
    " 'reg_alpha':[0, 0.001, 0.005, 0.01, 0.05, 0.1, 1, 10, 100]\n",
    "}\n",
    "xgb7 = XGBClassifier(learning_rate =0.1, n_estimators=140, max_depth=9, min_child_weight=4, gamma=0, subsample=0.9, colsample_bytree=0.6,objective= 'binary:logistic', nthread=4, scale_pos_weight=1, seed=27)\n",
    "gsearch7 = GridSearchCV(xgb7, param_grid = param_test7, scoring='roc_auc',iid=False, cv=3)\n",
    "gsearch7.fit(X_train, y_train)\n",
    "print(\"최적화 파라미터 :\", gsearch7.best_params_)\n",
    "print(\"GridSearch_CV 최고정확도: {0:.4f}\".format(gsearch7.best_score_))"
   ]
  },
  {
   "cell_type": "code",
   "execution_count": 16,
   "metadata": {},
   "outputs": [
    {
     "name": "stdout",
     "output_type": "stream",
     "text": [
      "Best Grid RF:0.8771\n",
      "              precision    recall  f1-score   support\n",
      "\n",
      "           0       0.91      0.89      0.90       114\n",
      "           1       0.82      0.85      0.83        65\n",
      "\n",
      "    accuracy                           0.88       179\n",
      "   macro avg       0.87      0.87      0.87       179\n",
      "weighted avg       0.88      0.88      0.88       179\n",
      "\n"
     ]
    }
   ],
   "source": [
    "#grid로 찾은 최적화 파라미터로 예측\n",
    "best_xgb = gsearch7.best_estimator_\n",
    "xgb_pred = best_xgb.predict(X_test)\n",
    "print(\"Best Grid RF:{0:.4f}\".format(accuracy_score(y_test,xgb_pred)))\n",
    "print(classification_report(y_test, xgb_pred))"
   ]
  },
  {
   "cell_type": "markdown",
   "metadata": {},
   "source": [
    "# Step 6: Learning Rate and tree 수\n",
    "Lastly, we change the learning rate and  trees. Lets use the cv function of XGBoost to do the job again."
   ]
  },
  {
   "cell_type": "code",
   "execution_count": 17,
   "metadata": {},
   "outputs": [
    {
     "name": "stdout",
     "output_type": "stream",
     "text": [
      "최적화 파라미터 : {'learning_rate': 0.1}\n",
      "GridSearch_CV 최고정확도: 0.8568\n"
     ]
    },
    {
     "name": "stderr",
     "output_type": "stream",
     "text": [
      "C:\\Users\\Professor Lee\\anaconda3\\envs\\tf2\\lib\\site-packages\\sklearn\\model_selection\\_search.py:823: FutureWarning: The parameter 'iid' is deprecated in 0.22 and will be removed in 0.24.\n",
      "  \"removed in 0.24.\", FutureWarning\n"
     ]
    }
   ],
   "source": [
    "param_test8 = {\n",
    " 'learning_rate':[0.2, 0.15, 0.1, 0.05]\n",
    "}\n",
    "xgb8 = XGBClassifier(learning_rate =0.1, n_estimators=140, max_depth=9, min_child_weight=4, gamma=0, subsample=0.9, colsample_bytree=0.6,reg_alpha= 0.01,objective= 'binary:logistic', nthread=4, scale_pos_weight=1, seed=27)\n",
    "gsearch8 = GridSearchCV(xgb8, param_grid = param_test8, scoring='roc_auc',iid=False, cv=3)\n",
    "gsearch8.fit(X_train, y_train)\n",
    "print(\"최적화 파라미터 :\", gsearch8.best_params_)\n",
    "print(\"GridSearch_CV 최고정확도: {0:.4f}\".format(gsearch8.best_score_))\n"
   ]
  },
  {
   "cell_type": "code",
   "execution_count": 21,
   "metadata": {},
   "outputs": [
    {
     "name": "stdout",
     "output_type": "stream",
     "text": [
      "최적화 파라미터 : {'n_estimators': 50}\n",
      "GridSearch_CV 최고정확도: 0.8595\n"
     ]
    },
    {
     "data": {
      "text/html": [
       "<div>\n",
       "<style scoped>\n",
       "    .dataframe tbody tr th:only-of-type {\n",
       "        vertical-align: middle;\n",
       "    }\n",
       "\n",
       "    .dataframe tbody tr th {\n",
       "        vertical-align: top;\n",
       "    }\n",
       "\n",
       "    .dataframe thead th {\n",
       "        text-align: right;\n",
       "    }\n",
       "</style>\n",
       "<table border=\"1\" class=\"dataframe\">\n",
       "  <thead>\n",
       "    <tr style=\"text-align: right;\">\n",
       "      <th></th>\n",
       "      <th>mean_fit_time</th>\n",
       "      <th>std_fit_time</th>\n",
       "      <th>mean_score_time</th>\n",
       "      <th>std_score_time</th>\n",
       "      <th>param_n_estimators</th>\n",
       "      <th>params</th>\n",
       "      <th>split0_test_score</th>\n",
       "      <th>split1_test_score</th>\n",
       "      <th>split2_test_score</th>\n",
       "      <th>mean_test_score</th>\n",
       "      <th>std_test_score</th>\n",
       "      <th>rank_test_score</th>\n",
       "    </tr>\n",
       "  </thead>\n",
       "  <tbody>\n",
       "    <tr>\n",
       "      <th>0</th>\n",
       "      <td>0.012802</td>\n",
       "      <td>0.002241</td>\n",
       "      <td>0.001996</td>\n",
       "      <td>2.503080e-06</td>\n",
       "      <td>10</td>\n",
       "      <td>{'n_estimators': 10}</td>\n",
       "      <td>0.819874</td>\n",
       "      <td>0.810307</td>\n",
       "      <td>0.878523</td>\n",
       "      <td>0.836235</td>\n",
       "      <td>0.030156</td>\n",
       "      <td>5</td>\n",
       "    </tr>\n",
       "    <tr>\n",
       "      <th>1</th>\n",
       "      <td>0.038764</td>\n",
       "      <td>0.003186</td>\n",
       "      <td>0.002013</td>\n",
       "      <td>1.185878e-05</td>\n",
       "      <td>50</td>\n",
       "      <td>{'n_estimators': 50}</td>\n",
       "      <td>0.869188</td>\n",
       "      <td>0.810982</td>\n",
       "      <td>0.898351</td>\n",
       "      <td>0.859507</td>\n",
       "      <td>0.036319</td>\n",
       "      <td>1</td>\n",
       "    </tr>\n",
       "    <tr>\n",
       "      <th>2</th>\n",
       "      <td>0.069480</td>\n",
       "      <td>0.001544</td>\n",
       "      <td>0.001994</td>\n",
       "      <td>5.947204e-07</td>\n",
       "      <td>100</td>\n",
       "      <td>{'n_estimators': 100}</td>\n",
       "      <td>0.865406</td>\n",
       "      <td>0.811844</td>\n",
       "      <td>0.891454</td>\n",
       "      <td>0.856235</td>\n",
       "      <td>0.033141</td>\n",
       "      <td>2</td>\n",
       "    </tr>\n",
       "    <tr>\n",
       "      <th>3</th>\n",
       "      <td>0.133513</td>\n",
       "      <td>0.004398</td>\n",
       "      <td>0.001994</td>\n",
       "      <td>1.173403e-06</td>\n",
       "      <td>200</td>\n",
       "      <td>{'n_estimators': 200}</td>\n",
       "      <td>0.865628</td>\n",
       "      <td>0.808621</td>\n",
       "      <td>0.882984</td>\n",
       "      <td>0.852411</td>\n",
       "      <td>0.031765</td>\n",
       "      <td>3</td>\n",
       "    </tr>\n",
       "    <tr>\n",
       "      <th>4</th>\n",
       "      <td>0.192129</td>\n",
       "      <td>0.004701</td>\n",
       "      <td>0.002670</td>\n",
       "      <td>4.748810e-04</td>\n",
       "      <td>300</td>\n",
       "      <td>{'n_estimators': 300}</td>\n",
       "      <td>0.867927</td>\n",
       "      <td>0.811919</td>\n",
       "      <td>0.874738</td>\n",
       "      <td>0.851528</td>\n",
       "      <td>0.028145</td>\n",
       "      <td>4</td>\n",
       "    </tr>\n",
       "  </tbody>\n",
       "</table>\n",
       "</div>"
      ],
      "text/plain": [
       "   mean_fit_time  std_fit_time  mean_score_time  std_score_time  \\\n",
       "0       0.012802      0.002241         0.001996    2.503080e-06   \n",
       "1       0.038764      0.003186         0.002013    1.185878e-05   \n",
       "2       0.069480      0.001544         0.001994    5.947204e-07   \n",
       "3       0.133513      0.004398         0.001994    1.173403e-06   \n",
       "4       0.192129      0.004701         0.002670    4.748810e-04   \n",
       "\n",
       "  param_n_estimators                 params  split0_test_score  \\\n",
       "0                 10   {'n_estimators': 10}           0.819874   \n",
       "1                 50   {'n_estimators': 50}           0.869188   \n",
       "2                100  {'n_estimators': 100}           0.865406   \n",
       "3                200  {'n_estimators': 200}           0.865628   \n",
       "4                300  {'n_estimators': 300}           0.867927   \n",
       "\n",
       "   split1_test_score  split2_test_score  mean_test_score  std_test_score  \\\n",
       "0           0.810307           0.878523         0.836235        0.030156   \n",
       "1           0.810982           0.898351         0.859507        0.036319   \n",
       "2           0.811844           0.891454         0.856235        0.033141   \n",
       "3           0.808621           0.882984         0.852411        0.031765   \n",
       "4           0.811919           0.874738         0.851528        0.028145   \n",
       "\n",
       "   rank_test_score  \n",
       "0                5  \n",
       "1                1  \n",
       "2                2  \n",
       "3                3  \n",
       "4                4  "
      ]
     },
     "execution_count": 21,
     "metadata": {},
     "output_type": "execute_result"
    }
   ],
   "source": [
    "param_test9 = {\n",
    " 'n_estimators':[10, 50, 100, 200, 300]\n",
    "}\n",
    "xgb9 = XGBClassifier(learning_rate =0.1, n_estimators=140, max_depth=9, min_child_weight=4, gamma=0, subsample=0.9, colsample_bytree=0.6,reg_alpha= 0.01,objective= 'binary:logistic', nthread=4, scale_pos_weight=1, seed=27)\n",
    "gsearch9 = GridSearchCV(xgb9, param_grid = param_test9, scoring='roc_auc', cv=3)\n",
    "gsearch9.fit(X_train, y_train)\n",
    "print(\"최적화 파라미터 :\", gsearch9.best_params_)\n",
    "print(\"GridSearch_CV 최고정확도: {0:.4f}\".format(gsearch9.best_score_))\n",
    "gsearch9_df = pd.DataFrame(gsearch9.cv_results_)\n",
    "gsearch9_df"
   ]
  },
  {
   "cell_type": "code",
   "execution_count": 22,
   "metadata": {},
   "outputs": [
    {
     "name": "stdout",
     "output_type": "stream",
     "text": [
      "Best Grid Xgbm accuracy score:0.8715\n",
      "오차 행렬\n",
      "[[102  12]\n",
      " [ 11  54]]\n",
      "정확도: 0.8715, 정밀도: 0.8182, 재현율: 0.8308,    F1: 0.8244, AUC:0.9026\n",
      "              precision    recall  f1-score   support\n",
      "\n",
      "           0       0.90      0.89      0.90       114\n",
      "           1       0.82      0.83      0.82        65\n",
      "\n",
      "    accuracy                           0.87       179\n",
      "   macro avg       0.86      0.86      0.86       179\n",
      "weighted avg       0.87      0.87      0.87       179\n",
      "\n"
     ]
    },
    {
     "data": {
      "text/plain": [
       "<matplotlib.axes._subplots.AxesSubplot at 0x2462a113988>"
      ]
     },
     "execution_count": 22,
     "metadata": {},
     "output_type": "execute_result"
    },
    {
     "data": {
      "image/png": "[encoded data removed]",
      "text/plain": [
       "<Figure size 432x288 with 1 Axes>"
      ]
     },
     "metadata": {
      "needs_background": "light"
     },
     "output_type": "display_data"
    }
   ],
   "source": [
    "#grid로 찾은 최적화 파라미터로 예측\n",
    "best_xgb = gsearch9.best_estimator_\n",
    "xgb_pred = best_xgb.predict(X_test)\n",
    "print(\"Best Grid Xgbm accuracy score:{0:.4f}\".format(accuracy_score(y_test,xgb_pred)))\n",
    "xgb_pred_proba = best_xgb.predict_proba(X_test)[:, 1]\n",
    "\n",
    "get_clf_eval(y_test , xgb_pred, xgb_pred_proba)\n",
    "print(classification_report(y_test, xgb_pred))\n",
    "xgb.plot_importance(best_xgb)"
   ]
  },
  {
   "cell_type": "code",
   "execution_count": null,
   "metadata": {},
   "outputs": [],
   "source": []
  }
 ],
 "metadata": {
  "kernelspec": {
   "display_name": "Python 3",
   "language": "python",
   "name": "python3"
  },
  "language_info": {
   "codemirror_mode": {
    "name": "ipython",
    "version": 3
   },
   "file_extension": ".py",
   "mimetype": "text/x-python",
   "name": "python",
   "nbconvert_exporter": "python",
   "pygments_lexer": "ipython3",
   "version": "3.7.7"
  }
 },
 "nbformat": 4,
 "nbformat_minor": 4
}
