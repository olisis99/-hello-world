{
 "cells": [
  {
   "cell_type": "code",
   "execution_count": 1,
   "metadata": {},
   "outputs": [
    {
     "data": {
      "text/html": [
       "<div>\n",
       "<style scoped>\n",
       "    .dataframe tbody tr th:only-of-type {\n",
       "        vertical-align: middle;\n",
       "    }\n",
       "\n",
       "    .dataframe tbody tr th {\n",
       "        vertical-align: top;\n",
       "    }\n",
       "\n",
       "    .dataframe thead th {\n",
       "        text-align: right;\n",
       "    }\n",
       "</style>\n",
       "<table border=\"1\" class=\"dataframe\">\n",
       "  <thead>\n",
       "    <tr style=\"text-align: right;\">\n",
       "      <th></th>\n",
       "      <th>PassengerId</th>\n",
       "      <th>Survived</th>\n",
       "      <th>Pclass</th>\n",
       "      <th>Name</th>\n",
       "      <th>Sex</th>\n",
       "      <th>Age</th>\n",
       "      <th>SibSp</th>\n",
       "      <th>Parch</th>\n",
       "      <th>Ticket</th>\n",
       "      <th>Fare</th>\n",
       "      <th>Cabin</th>\n",
       "      <th>Embarked</th>\n",
       "    </tr>\n",
       "  </thead>\n",
       "  <tbody>\n",
       "    <tr>\n",
       "      <th>0</th>\n",
       "      <td>1</td>\n",
       "      <td>0</td>\n",
       "      <td>3</td>\n",
       "      <td>Braund, Mr. Owen Harris</td>\n",
       "      <td>male</td>\n",
       "      <td>22.0</td>\n",
       "      <td>1</td>\n",
       "      <td>0</td>\n",
       "      <td>A/5 21171</td>\n",
       "      <td>7.2500</td>\n",
       "      <td>NaN</td>\n",
       "      <td>S</td>\n",
       "    </tr>\n",
       "    <tr>\n",
       "      <th>1</th>\n",
       "      <td>2</td>\n",
       "      <td>1</td>\n",
       "      <td>1</td>\n",
       "      <td>Cumings, Mrs. John Bradley (Florence Briggs Th...</td>\n",
       "      <td>female</td>\n",
       "      <td>38.0</td>\n",
       "      <td>1</td>\n",
       "      <td>0</td>\n",
       "      <td>PC 17599</td>\n",
       "      <td>71.2833</td>\n",
       "      <td>C85</td>\n",
       "      <td>C</td>\n",
       "    </tr>\n",
       "    <tr>\n",
       "      <th>2</th>\n",
       "      <td>3</td>\n",
       "      <td>1</td>\n",
       "      <td>3</td>\n",
       "      <td>Heikkinen, Miss. Laina</td>\n",
       "      <td>female</td>\n",
       "      <td>26.0</td>\n",
       "      <td>0</td>\n",
       "      <td>0</td>\n",
       "      <td>STON/O2. 3101282</td>\n",
       "      <td>7.9250</td>\n",
       "      <td>NaN</td>\n",
       "      <td>S</td>\n",
       "    </tr>\n",
       "    <tr>\n",
       "      <th>3</th>\n",
       "      <td>4</td>\n",
       "      <td>1</td>\n",
       "      <td>1</td>\n",
       "      <td>Futrelle, Mrs. Jacques Heath (Lily May Peel)</td>\n",
       "      <td>female</td>\n",
       "      <td>35.0</td>\n",
       "      <td>1</td>\n",
       "      <td>0</td>\n",
       "      <td>113803</td>\n",
       "      <td>53.1000</td>\n",
       "      <td>C123</td>\n",
       "      <td>S</td>\n",
       "    </tr>\n",
       "    <tr>\n",
       "      <th>4</th>\n",
       "      <td>5</td>\n",
       "      <td>0</td>\n",
       "      <td>3</td>\n",
       "      <td>Allen, Mr. William Henry</td>\n",
       "      <td>male</td>\n",
       "      <td>35.0</td>\n",
       "      <td>0</td>\n",
       "      <td>0</td>\n",
       "      <td>373450</td>\n",
       "      <td>8.0500</td>\n",
       "      <td>NaN</td>\n",
       "      <td>S</td>\n",
       "    </tr>\n",
       "  </tbody>\n",
       "</table>\n",
       "</div>"
      ],
      "text/plain": [
       "   PassengerId  Survived  Pclass  \\\n",
       "0            1         0       3   \n",
       "1            2         1       1   \n",
       "2            3         1       3   \n",
       "3            4         1       1   \n",
       "4            5         0       3   \n",
       "\n",
       "                                                Name     Sex   Age  SibSp  \\\n",
       "0                            Braund, Mr. Owen Harris    male  22.0      1   \n",
       "1  Cumings, Mrs. John Bradley (Florence Briggs Th...  female  38.0      1   \n",
       "2                             Heikkinen, Miss. Laina  female  26.0      0   \n",
       "3       Futrelle, Mrs. Jacques Heath (Lily May Peel)  female  35.0      1   \n",
       "4                           Allen, Mr. William Henry    male  35.0      0   \n",
       "\n",
       "   Parch            Ticket     Fare Cabin Embarked  \n",
       "0      0         A/5 21171   7.2500   NaN        S  \n",
       "1      0          PC 17599  71.2833   C85        C  \n",
       "2      0  STON/O2. 3101282   7.9250   NaN        S  \n",
       "3      0            113803  53.1000  C123        S  \n",
       "4      0            373450   8.0500   NaN        S  "
      ]
     },
     "execution_count": 1,
     "metadata": {},
     "output_type": "execute_result"
    }
   ],
   "source": [
    "#titanic에서 데이터 분석한 결과를 가지고 데이터를 전처리 한후 Xgboost를 사용해서 예측률을 높여본다.\n",
    "# Xgboost에서 하이퍼파라미터를 어떻게 조정할지에 대한 방법을 연습한다.\n",
    "# 여기서는 Xgboost model에 대한 이해를 높이는데 중점을 둔다.\n",
    "# Bayesian Optimization를 적용\n",
    "# 2020.5.14\n",
    "\n",
    "import numpy as np\n",
    "import pandas as pd\n",
    "import seaborn as sns\n",
    "import matplotlib.pyplot as plt\n",
    "from sklearn.model_selection import train_test_split\n",
    "from sklearn.metrics import accuracy_score, classification_report, confusion_matrix, precision_score, recall_score\n",
    "from sklearn.metrics import f1_score, roc_auc_score, roc_curve\n",
    "# 사이킷런 래퍼 XGBoost 클래스인 XGBClassifier 임포트\n",
    "from xgboost import XGBClassifier\n",
    "import xgboost as xgb\n",
    "from bayes_opt import BayesianOptimization\n",
    "\n",
    "titanic_data = pd.read_csv('titanic_train.csv')\n",
    "titanic_data.head()"
   ]
  },
  {
   "cell_type": "code",
   "execution_count": 2,
   "metadata": {},
   "outputs": [
    {
     "data": {
      "text/html": [
       "<div>\n",
       "<style scoped>\n",
       "    .dataframe tbody tr th:only-of-type {\n",
       "        vertical-align: middle;\n",
       "    }\n",
       "\n",
       "    .dataframe tbody tr th {\n",
       "        vertical-align: top;\n",
       "    }\n",
       "\n",
       "    .dataframe thead th {\n",
       "        text-align: right;\n",
       "    }\n",
       "</style>\n",
       "<table border=\"1\" class=\"dataframe\">\n",
       "  <thead>\n",
       "    <tr style=\"text-align: right;\">\n",
       "      <th></th>\n",
       "      <th>Survived</th>\n",
       "      <th>Pclass</th>\n",
       "      <th>Sex</th>\n",
       "      <th>Age</th>\n",
       "      <th>SibSp</th>\n",
       "      <th>Parch</th>\n",
       "      <th>Fare</th>\n",
       "      <th>Embarked</th>\n",
       "      <th>H_Cabin</th>\n",
       "    </tr>\n",
       "  </thead>\n",
       "  <tbody>\n",
       "    <tr>\n",
       "      <th>0</th>\n",
       "      <td>0</td>\n",
       "      <td>3</td>\n",
       "      <td>male</td>\n",
       "      <td>22.0</td>\n",
       "      <td>1</td>\n",
       "      <td>0</td>\n",
       "      <td>7.2500</td>\n",
       "      <td>S</td>\n",
       "      <td>N</td>\n",
       "    </tr>\n",
       "    <tr>\n",
       "      <th>1</th>\n",
       "      <td>1</td>\n",
       "      <td>1</td>\n",
       "      <td>female</td>\n",
       "      <td>38.0</td>\n",
       "      <td>1</td>\n",
       "      <td>0</td>\n",
       "      <td>71.2833</td>\n",
       "      <td>C</td>\n",
       "      <td>C</td>\n",
       "    </tr>\n",
       "    <tr>\n",
       "      <th>2</th>\n",
       "      <td>1</td>\n",
       "      <td>3</td>\n",
       "      <td>female</td>\n",
       "      <td>26.0</td>\n",
       "      <td>0</td>\n",
       "      <td>0</td>\n",
       "      <td>7.9250</td>\n",
       "      <td>S</td>\n",
       "      <td>N</td>\n",
       "    </tr>\n",
       "    <tr>\n",
       "      <th>3</th>\n",
       "      <td>1</td>\n",
       "      <td>1</td>\n",
       "      <td>female</td>\n",
       "      <td>35.0</td>\n",
       "      <td>1</td>\n",
       "      <td>0</td>\n",
       "      <td>53.1000</td>\n",
       "      <td>S</td>\n",
       "      <td>C</td>\n",
       "    </tr>\n",
       "    <tr>\n",
       "      <th>4</th>\n",
       "      <td>0</td>\n",
       "      <td>3</td>\n",
       "      <td>male</td>\n",
       "      <td>35.0</td>\n",
       "      <td>0</td>\n",
       "      <td>0</td>\n",
       "      <td>8.0500</td>\n",
       "      <td>S</td>\n",
       "      <td>N</td>\n",
       "    </tr>\n",
       "  </tbody>\n",
       "</table>\n",
       "</div>"
      ],
      "text/plain": [
       "   Survived  Pclass     Sex   Age  SibSp  Parch     Fare Embarked H_Cabin\n",
       "0         0       3    male  22.0      1      0   7.2500        S       N\n",
       "1         1       1  female  38.0      1      0  71.2833        C       C\n",
       "2         1       3  female  26.0      0      0   7.9250        S       N\n",
       "3         1       1  female  35.0      1      0  53.1000        S       C\n",
       "4         0       3    male  35.0      0      0   8.0500        S       N"
      ]
     },
     "execution_count": 2,
     "metadata": {},
     "output_type": "execute_result"
    }
   ],
   "source": [
    "#불필요한 요소 삭제\n",
    "titanic_data = titanic_data.drop(['PassengerId', 'Name', 'Ticket'], axis = 1)\n",
    "# cabin정보의 missing을 N으로 선실번호에서 앞자만 사용\n",
    "titanic_data.Cabin.fillna('N', inplace = True)\n",
    "titanic_data['H_Cabin'] = titanic_data['Cabin'].apply(lambda x : x[0])\n",
    "#missing value 처리\n",
    "#Age는 평균값으로 처리\n",
    "titanic_data.Age.fillna(titanic_data.Age.mean(), inplace = True)\n",
    "#Cabin은 삭제하고 H_cabin사용\n",
    "titanic_data = titanic_data.drop(['Cabin'], axis = 1)\n",
    "#Embarked는 가장 많은  S로\n",
    "titanic_data.Embarked.fillna('S', inplace = True)\n",
    "titanic_data.head()"
   ]
  },
  {
   "cell_type": "code",
   "execution_count": 3,
   "metadata": {},
   "outputs": [
    {
     "data": {
      "text/html": [
       "<div>\n",
       "<style scoped>\n",
       "    .dataframe tbody tr th:only-of-type {\n",
       "        vertical-align: middle;\n",
       "    }\n",
       "\n",
       "    .dataframe tbody tr th {\n",
       "        vertical-align: top;\n",
       "    }\n",
       "\n",
       "    .dataframe thead th {\n",
       "        text-align: right;\n",
       "    }\n",
       "</style>\n",
       "<table border=\"1\" class=\"dataframe\">\n",
       "  <thead>\n",
       "    <tr style=\"text-align: right;\">\n",
       "      <th></th>\n",
       "      <th>Survived</th>\n",
       "      <th>Pclass</th>\n",
       "      <th>Sex</th>\n",
       "      <th>Age</th>\n",
       "      <th>SibSp</th>\n",
       "      <th>Parch</th>\n",
       "      <th>Fare</th>\n",
       "      <th>Embarked_Q</th>\n",
       "      <th>Embarked_S</th>\n",
       "      <th>Cabin_B</th>\n",
       "      <th>Cabin_C</th>\n",
       "      <th>Cabin_D</th>\n",
       "      <th>Cabin_E</th>\n",
       "      <th>Cabin_F</th>\n",
       "      <th>Cabin_G</th>\n",
       "      <th>Cabin_N</th>\n",
       "      <th>Cabin_T</th>\n",
       "    </tr>\n",
       "  </thead>\n",
       "  <tbody>\n",
       "    <tr>\n",
       "      <th>0</th>\n",
       "      <td>0</td>\n",
       "      <td>3</td>\n",
       "      <td>0.0</td>\n",
       "      <td>22.0</td>\n",
       "      <td>1</td>\n",
       "      <td>0</td>\n",
       "      <td>7.2500</td>\n",
       "      <td>0</td>\n",
       "      <td>1</td>\n",
       "      <td>0</td>\n",
       "      <td>0</td>\n",
       "      <td>0</td>\n",
       "      <td>0</td>\n",
       "      <td>0</td>\n",
       "      <td>0</td>\n",
       "      <td>1</td>\n",
       "      <td>0</td>\n",
       "    </tr>\n",
       "    <tr>\n",
       "      <th>1</th>\n",
       "      <td>1</td>\n",
       "      <td>1</td>\n",
       "      <td>1.0</td>\n",
       "      <td>38.0</td>\n",
       "      <td>1</td>\n",
       "      <td>0</td>\n",
       "      <td>71.2833</td>\n",
       "      <td>0</td>\n",
       "      <td>0</td>\n",
       "      <td>0</td>\n",
       "      <td>1</td>\n",
       "      <td>0</td>\n",
       "      <td>0</td>\n",
       "      <td>0</td>\n",
       "      <td>0</td>\n",
       "      <td>0</td>\n",
       "      <td>0</td>\n",
       "    </tr>\n",
       "    <tr>\n",
       "      <th>2</th>\n",
       "      <td>1</td>\n",
       "      <td>3</td>\n",
       "      <td>1.0</td>\n",
       "      <td>26.0</td>\n",
       "      <td>0</td>\n",
       "      <td>0</td>\n",
       "      <td>7.9250</td>\n",
       "      <td>0</td>\n",
       "      <td>1</td>\n",
       "      <td>0</td>\n",
       "      <td>0</td>\n",
       "      <td>0</td>\n",
       "      <td>0</td>\n",
       "      <td>0</td>\n",
       "      <td>0</td>\n",
       "      <td>1</td>\n",
       "      <td>0</td>\n",
       "    </tr>\n",
       "    <tr>\n",
       "      <th>3</th>\n",
       "      <td>1</td>\n",
       "      <td>1</td>\n",
       "      <td>1.0</td>\n",
       "      <td>35.0</td>\n",
       "      <td>1</td>\n",
       "      <td>0</td>\n",
       "      <td>53.1000</td>\n",
       "      <td>0</td>\n",
       "      <td>1</td>\n",
       "      <td>0</td>\n",
       "      <td>1</td>\n",
       "      <td>0</td>\n",
       "      <td>0</td>\n",
       "      <td>0</td>\n",
       "      <td>0</td>\n",
       "      <td>0</td>\n",
       "      <td>0</td>\n",
       "    </tr>\n",
       "    <tr>\n",
       "      <th>4</th>\n",
       "      <td>0</td>\n",
       "      <td>3</td>\n",
       "      <td>0.0</td>\n",
       "      <td>35.0</td>\n",
       "      <td>0</td>\n",
       "      <td>0</td>\n",
       "      <td>8.0500</td>\n",
       "      <td>0</td>\n",
       "      <td>1</td>\n",
       "      <td>0</td>\n",
       "      <td>0</td>\n",
       "      <td>0</td>\n",
       "      <td>0</td>\n",
       "      <td>0</td>\n",
       "      <td>0</td>\n",
       "      <td>1</td>\n",
       "      <td>0</td>\n",
       "    </tr>\n",
       "  </tbody>\n",
       "</table>\n",
       "</div>"
      ],
      "text/plain": [
       "   Survived  Pclass  Sex   Age  SibSp  Parch     Fare  Embarked_Q  Embarked_S  \\\n",
       "0         0       3  0.0  22.0      1      0   7.2500           0           1   \n",
       "1         1       1  1.0  38.0      1      0  71.2833           0           0   \n",
       "2         1       3  1.0  26.0      0      0   7.9250           0           1   \n",
       "3         1       1  1.0  35.0      1      0  53.1000           0           1   \n",
       "4         0       3  0.0  35.0      0      0   8.0500           0           1   \n",
       "\n",
       "   Cabin_B  Cabin_C  Cabin_D  Cabin_E  Cabin_F  Cabin_G  Cabin_N  Cabin_T  \n",
       "0        0        0        0        0        0        0        1        0  \n",
       "1        0        1        0        0        0        0        0        0  \n",
       "2        0        0        0        0        0        0        1        0  \n",
       "3        0        1        0        0        0        0        0        0  \n",
       "4        0        0        0        0        0        0        1        0  "
      ]
     },
     "execution_count": 3,
     "metadata": {},
     "output_type": "execute_result"
    }
   ],
   "source": [
    "# 중요한 요소이긴 하지만 2이상은 데이터가 적어서, 있으면 1 없으면 0으로\n",
    "titanic_data['SibSp'] = titanic_data['SibSp'].apply(lambda x : 1 if x > 0 else 0)\n",
    "\n",
    "#분류 값들을 수치값으로 변경\n",
    "titanic_data.Sex.replace({'male': 0.0, 'female': 1.0}, inplace= True)\n",
    "\n",
    "#Dependents 값을 get_dummies 함수를 이용해서 수치로 변경 OneHotEncode를 사용해도 된다.\n",
    "#drop first를 True로 해서 dummy trap을 피한다.\n",
    "dummies = pd.get_dummies(titanic_data['Embarked'], prefix='Embarked', drop_first=True)\n",
    "titanic_data = pd.concat([titanic_data, dummies], axis=1)\n",
    "titanic_data = titanic_data.drop(['Embarked'],  axis=1)\n",
    "\n",
    "dummies = pd.get_dummies(titanic_data['H_Cabin'], prefix='Cabin', drop_first=True)\n",
    "titanic_data = pd.concat([titanic_data, dummies], axis=1)\n",
    "titanic_data = titanic_data.drop(['H_Cabin'],  axis=1)\n",
    "\n",
    "# 더 많은 column을 보여주도록 변경\n",
    "pd.set_option('display.max_columns', 100) \n",
    "titanic_data.head()"
   ]
  },
  {
   "cell_type": "code",
   "execution_count": 4,
   "metadata": {},
   "outputs": [],
   "source": [
    "#Test를 위한 데이터 생성\n",
    "y_data = titanic_data.Survived\n",
    "x_data = titanic_data.drop('Survived', axis = 1)\n",
    "#test 와 train set 만들기\n",
    "X_train, X_test, y_train, y_test= train_test_split(x_data, y_data, test_size=0.2, random_state=123)"
   ]
  },
  {
   "cell_type": "code",
   "execution_count": 5,
   "metadata": {},
   "outputs": [
    {
     "name": "stdout",
     "output_type": "stream",
     "text": [
      "100%|███████████████████████████████████████████| 2000/2000 [00:13<00:00, 151.55trial/s, best loss: -4396.024080099919]\n"
     ]
    }
   ],
   "source": [
    "import numpy as np\n",
    "from hyperopt import hp, tpe, fmin\n",
    "\n",
    "# Single line bayesian optimization of polynomial function\n",
    "best = fmin(fn = lambda x: np.poly1d([1, -2, -28, 28, 12, -26, 100])(x),\n",
    "            space = hp.normal('x', 4.9, 0.5), algo=tpe.suggest, \n",
    "            max_evals = 2000)"
   ]
  },
  {
   "cell_type": "code",
   "execution_count": 6,
   "metadata": {},
   "outputs": [
    {
     "name": "stdout",
     "output_type": "stream",
     "text": [
      "Minimum of -1.0000 occurs at -0.0005\n"
     ]
    },
    {
     "data": {
      "image/png": "[encoded data removed]",
      "text/plain": [
       "<Figure size 576x432 with 1 Axes>"
      ]
     },
     "metadata": {
      "needs_background": "light"
     },
     "output_type": "display_data"
    }
   ],
   "source": [
    "def objective(x):\n",
    "    \"\"\"Objective function to minimize\"\"\"\n",
    "    \n",
    "    # Create the polynomial object\n",
    "    f = np.poly1d([1,1]) * np.poly1d([1,-1]) \n",
    "\n",
    "    # Return the value of the polynomial\n",
    "    return f(x)\n",
    "\n",
    "# Space over which to evluate the function is -5 to 6\n",
    "x = np.linspace(-5, 5, 10000)\n",
    "y = objective(x)\n",
    "\n",
    "miny = min(y)\n",
    "minx = x[np.argmin(y)]\n",
    "\n",
    "# Visualize the function\n",
    "plt.figure(figsize = (8, 6))\n",
    "plt.style.use('fivethirtyeight')\n",
    "plt.title('Objective Function'); plt.xlabel('x'); plt.ylabel('f(x)')\n",
    "plt.vlines(minx, min(y)- 10, max(y), linestyles = '--', colors = 'r')\n",
    "plt.plot(x, y);\n",
    "\n",
    "# Print out the minimum of the function and value\n",
    "print('Minimum of %0.4f occurs at %0.4f' % (miny, minx))"
   ]
  },
  {
   "cell_type": "markdown",
   "metadata": {},
   "source": [
    "# xgb model에 Bayesian Optimization를 적용해서 hyper parameter를 최적화\n",
    "XGBoost 목표 지표에 가장 큰 영향을 미치는 하이퍼파라미터는 alpha, min_child_weight, subsample, learning_rate 및 n_estimators입니다.\n",
    "참고 사이트 : https://docs.aws.amazon.com/ko_kr/sagemaker/latest/dg/xgboost-tuning.html\n",
    "주의할점 : 기본적으로 float값을 parameter로 가정하므로 반드시 정수값을 넣어야 하는 경우는 int(rount())를 사용해서 정수로 변환이 필요.¶\n",
    "그런데 이 경우 loop에 빠질수가 있으므로 다른 방법도 같이 고려하는게 좋을 수도 있다."
   ]
  },
  {
   "cell_type": "code",
   "execution_count": 7,
   "metadata": {},
   "outputs": [
    {
     "name": "stdout",
     "output_type": "stream",
     "text": [
      "|   iter    |  target   |    l_r    |   m_c_w   |    m_d    |    n_e    |    s_s    |\n",
      "-------------------------------------------------------------------------------------\n",
      "| \u001b[95m 2       \u001b[0m | \u001b[95m 0.8212  \u001b[0m | \u001b[95m 0.02754 \u001b[0m | \u001b[95m 22.35   \u001b[0m | \u001b[95m 4.11    \u001b[0m | \u001b[95m 426.9   \u001b[0m | \u001b[95m 0.7694  \u001b[0m |\n",
      "| \u001b[95m 5       \u001b[0m | \u001b[95m 0.838   \u001b[0m | \u001b[95m 0.1462  \u001b[0m | \u001b[95m 2.313   \u001b[0m | \u001b[95m 9.511   \u001b[0m | \u001b[95m 997.3   \u001b[0m | \u001b[95m 0.8602  \u001b[0m |\n",
      "| \u001b[95m 6       \u001b[0m | \u001b[95m 0.8436  \u001b[0m | \u001b[95m 0.2     \u001b[0m | \u001b[95m 0.0     \u001b[0m | \u001b[95m 10.0    \u001b[0m | \u001b[95m 696.7   \u001b[0m | \u001b[95m 1.0     \u001b[0m |\n",
      "| \u001b[95m 12      \u001b[0m | \u001b[95m 0.8603  \u001b[0m | \u001b[95m 0.169   \u001b[0m | \u001b[95m 1.37    \u001b[0m | \u001b[95m 2.324   \u001b[0m | \u001b[95m 376.8   \u001b[0m | \u001b[95m 0.554   \u001b[0m |\n",
      "| \u001b[95m 15      \u001b[0m | \u001b[95m 0.8715  \u001b[0m | \u001b[95m 0.03234 \u001b[0m | \u001b[95m 0.1286  \u001b[0m | \u001b[95m 1.979   \u001b[0m | \u001b[95m 115.5   \u001b[0m | \u001b[95m 0.622   \u001b[0m |\n",
      "=====================================================================================\n",
      "{'target': 0.8715083798882681, 'params': {'l_r': 0.032337147870807825, 'm_c_w': 0.1286395859421141, 'm_d': 1.979107925560805, 'n_e': 115.50124350264203, 's_s': 0.6220098229838444}}\n"
     ]
    }
   ],
   "source": [
    "def xgbscore_function(n_e, l_r, m_d, m_c_w, s_s) :\n",
    "    xgb_wrapper = XGBClassifier(n_estimators=int(round(n_e)), learning_rate=l_r, max_depth=int(round(m_d)), \n",
    "                                min_child_weight=int(round(m_c_w)), subsample=s_s, device='gpu')\n",
    "    xgb_wrapper.fit(X_train, y_train)\n",
    "    w_preds = xgb_wrapper.predict(X_test)\n",
    "    score = accuracy_score(y_test, w_preds)\n",
    "    return score\n",
    "\n",
    "# Bounded region of parameter space\n",
    "pbounds = {'n_e': (50, 1000), 'l_r': (0.01, 0.2), 'm_d':(1, 10), 'm_c_w':(0,120), 's_s':(0.5,1)}\n",
    "\n",
    "optimizer1 = BayesianOptimization(\n",
    "    f=xgbscore_function,\n",
    "    pbounds=pbounds,\n",
    "    verbose=1, # verbose = 1 prints only when a maximum is observed, verbose = 0 is silent\n",
    "    random_state=1,\n",
    ")\n",
    "\n",
    "optimizer1.maximize(\n",
    "    init_points=3,\n",
    "    n_iter=50,\n",
    ")\n",
    "\n",
    "print(optimizer1.max)"
   ]
  },
  {
   "cell_type": "markdown",
   "metadata": {},
   "source": [
    "# Bayesian Optimization과 KFold 결합"
   ]
  },
  {
   "cell_type": "code",
   "execution_count": 39,
   "metadata": {},
   "outputs": [
    {
     "name": "stderr",
     "output_type": "stream",
     "text": [
      "C:\\Users\\Professor Lee\\anaconda3\\envs\\tf2\\lib\\site-packages\\sklearn\\model_selection\\_split.py:296: FutureWarning: Setting a random_state has no effect since shuffle is False. This will raise an error in 0.24. You should leave random_state to its default (None), or set shuffle=True.\n",
      "  FutureWarning\n"
     ]
    },
    {
     "name": "stdout",
     "output_type": "stream",
     "text": [
      "|   iter    |  target   |    l_r    |   m_c_w   |    m_d    |    n_e    |    s_s    |\n",
      "-------------------------------------------------------------------------------------\n",
      "| \u001b[95m 2       \u001b[0m | \u001b[95m 0.841   \u001b[0m | \u001b[95m 0.1803  \u001b[0m | \u001b[95m 15.07   \u001b[0m | \u001b[95m 2.865   \u001b[0m | \u001b[95m 98.89   \u001b[0m | \u001b[95m 0.7204  \u001b[0m |\n",
      "| \u001b[95m 4       \u001b[0m | \u001b[95m 0.8481  \u001b[0m | \u001b[95m 0.01    \u001b[0m | \u001b[95m 0.0     \u001b[0m | \u001b[95m 10.0    \u001b[0m | \u001b[95m 1e+03   \u001b[0m | \u001b[95m 0.5     \u001b[0m |\n",
      "| \u001b[95m 5       \u001b[0m | \u001b[95m 0.8501  \u001b[0m | \u001b[95m 0.01003 \u001b[0m | \u001b[95m 1.356   \u001b[0m | \u001b[95m 6.889   \u001b[0m | \u001b[95m 997.1   \u001b[0m | \u001b[95m 0.7133  \u001b[0m |\n",
      "| \u001b[95m 17      \u001b[0m | \u001b[95m 0.851   \u001b[0m | \u001b[95m 0.03386 \u001b[0m | \u001b[95m 0.6977  \u001b[0m | \u001b[95m 8.256   \u001b[0m | \u001b[95m 101.3   \u001b[0m | \u001b[95m 0.8352  \u001b[0m |\n",
      "| \u001b[95m 25      \u001b[0m | \u001b[95m 0.8516  \u001b[0m | \u001b[95m 0.1732  \u001b[0m | \u001b[95m 1.736   \u001b[0m | \u001b[95m 1.793   \u001b[0m | \u001b[95m 80.42   \u001b[0m | \u001b[95m 0.5722  \u001b[0m |\n",
      "=====================================================================================\n",
      "{'target': 0.8516204263459669, 'params': {'l_r': 0.17318628000828745, 'm_c_w': 1.735964982847591, 'm_d': 1.7925195468241553, 'n_e': 80.41865101541458, 's_s': 0.5722429665320778}}\n"
     ]
    }
   ],
   "source": [
    "from sklearn.model_selection import StratifiedKFold\n",
    "from sklearn.model_selection import cross_val_score\n",
    "\n",
    "kfold = StratifiedKFold(n_splits=3, random_state=5)\n",
    "scores = []\n",
    "def xgbscore_function(n_e, l_r, m_d, m_c_w, s_s) :\n",
    "    xgb_model = XGBClassifier(n_estimators=int(round(n_e)), learning_rate=l_r, max_depth=int(round(m_d)), \n",
    "                                min_child_weight=int(round(m_c_w)), subsample=s_s)\n",
    "    results = cross_val_score(xgb_model, X_train, y_train, cv=kfold, scoring='roc_auc')\n",
    "    score = results.mean()\n",
    "    scores.append(score)\n",
    "    return score\n",
    "\n",
    "# Bounded region of parameter space\n",
    "pbounds = {'n_e': (50, 1000), 'l_r': (0.01, 0.2), 'm_d':(1, 10), 'm_c_w':(0,120), 's_s':(0.5,1)}\n",
    "\n",
    "optimizer1 = BayesianOptimization(\n",
    "    f=xgbscore_function,\n",
    "    pbounds=pbounds,\n",
    "    verbose=1, # verbose = 1 prints only when a maximum is observed, verbose = 0 is silent\n",
    "    random_state=3,\n",
    ")\n",
    "\n",
    "optimizer1.maximize(\n",
    "    init_points=3,\n",
    "    n_iter=50,\n",
    ")\n",
    "\n",
    "print(optimizer1.max)"
   ]
  },
  {
   "cell_type": "markdown",
   "metadata": {},
   "source": [
    "grid로 찾은 최적화 파라미터로 예측"
   ]
  },
  {
   "cell_type": "code",
   "execution_count": 37,
   "metadata": {},
   "outputs": [
    {
     "name": "stdout",
     "output_type": "stream",
     "text": [
      "Best Grid Xgbm accuracy score:0.8659\n",
      "오차 행렬\n",
      "[[101  13]\n",
      " [ 11  54]]\n",
      "정확도: 0.8659, 정밀도: 0.8060, 재현율: 0.8308,    F1: 0.8182, AUC:0.9092\n",
      "              precision    recall  f1-score   support\n",
      "\n",
      "           0       0.90      0.89      0.89       114\n",
      "           1       0.81      0.83      0.82        65\n",
      "\n",
      "    accuracy                           0.87       179\n",
      "   macro avg       0.85      0.86      0.86       179\n",
      "weighted avg       0.87      0.87      0.87       179\n",
      "\n"
     ]
    },
    {
     "data": {
      "text/plain": [
       "<matplotlib.axes._subplots.AxesSubplot at 0x1704e1aec48>"
      ]
     },
     "execution_count": 37,
     "metadata": {},
     "output_type": "execute_result"
    },
    {
     "data": {
      "image/png": "[encoded data removed]",
      "text/plain": [
       "<Figure size 432x288 with 1 Axes>"
      ]
     },
     "metadata": {},
     "output_type": "display_data"
    }
   ],
   "source": [
    "# 평가 함수 선언\n",
    "def get_clf_eval(y_test, pred=None, pred_proba=None):\n",
    "    confusion = confusion_matrix( y_test, pred)\n",
    "    accuracy = accuracy_score(y_test , pred)\n",
    "    precision = precision_score(y_test , pred)\n",
    "    recall = recall_score(y_test , pred)\n",
    "    f1 = f1_score(y_test,pred)\n",
    "    # ROC-AUC 추가 \n",
    "    roc_auc = roc_auc_score(y_test, pred_proba)\n",
    "    print('오차 행렬')\n",
    "    print(confusion)\n",
    "    # ROC-AUC print 추가\n",
    "    print('정확도: {0:.4f}, 정밀도: {1:.4f}, 재현율: {2:.4f},\\\n",
    "    F1: {3:.4f}, AUC:{4:.4f}'.format(accuracy, precision, recall, f1, roc_auc))    \n",
    "    \n",
    "best_xgb = XGBClassifier(n_estimators=178, learning_rate=0.06465853014406732, max_depth=3, min_child_weight=1, subsample=0.5521541258084046)\n",
    " \n",
    "best_xgb.fit(X_train, y_train)\n",
    "preds = best_xgb.predict(X_test)\n",
    "pred_proba = best_xgb.predict_proba(X_test)[:, 1]\n",
    "\n",
    "print(\"Best Grid Xgbm accuracy score:{0:.4f}\".format(accuracy_score(y_test,preds)))\n",
    "get_clf_eval(y_test , preds, pred_proba)\n",
    "print(classification_report(y_test, preds))\n",
    "xgb.plot_importance(best_xgb)"
   ]
  },
  {
   "cell_type": "code",
   "execution_count": 41,
   "metadata": {},
   "outputs": [
    {
     "data": {
      "text/plain": [
       "[<matplotlib.lines.Line2D at 0x17050b104c8>]"
      ]
     },
     "execution_count": 41,
     "metadata": {},
     "output_type": "execute_result"
    },
    {
     "data": {
      "image/png": "[encoded data removed]",
      "text/plain": [
       "<Figure size 432x288 with 1 Axes>"
      ]
     },
     "metadata": {},
     "output_type": "display_data"
    }
   ],
   "source": [
    "plt.plot(scores)"
   ]
  },
  {
   "cell_type": "code",
   "execution_count": 50,
   "metadata": {},
   "outputs": [
    {
     "data": {
      "image/png": "[encoded data removed]",
      "text/plain": [
       "<Figure size 432x288 with 1 Axes>"
      ]
     },
     "metadata": {},
     "output_type": "display_data"
    }
   ],
   "source": [
    "import sklearn.metrics as metrics\n",
    "# calculate the fpr and tpr for all thresholds of the classification\n",
    "fpr, tpr, threshold = metrics.roc_curve(y_test, pred_proba)\n",
    "roc_auc = metrics.auc(fpr, tpr)\n",
    "plt.title('Receiver Operating Characteristic')\n",
    "plt.plot(fpr, tpr, 'b', label = 'AUC = %0.2f' % roc_auc)\n",
    "plt.legend(loc = 'lower right')\n",
    "plt.plot([0, 1], [0, 1],'r--')\n",
    "plt.xlim([0, 1])\n",
    "plt.ylim([0, 1])\n",
    "plt.ylabel('True Positive Rate')\n",
    "plt.xlabel('False Positive Rate')\n",
    "plt.show()"
   ]
  },
  {
   "cell_type": "markdown",
   "metadata": {},
   "source": [
    "첫번째로 파라미터 찾은 파라미터값들로 셋팅 후, 남은 파라미터들을 추가로 찾는다."
   ]
  },
  {
   "cell_type": "code",
   "execution_count": 42,
   "metadata": {},
   "outputs": [
    {
     "name": "stdout",
     "output_type": "stream",
     "text": [
      "|   iter    |  target   |    c_b    |   gamma   |    r_a    |\n",
      "-------------------------------------------------------------\n",
      "| \u001b[95m 7       \u001b[0m | \u001b[95m 0.8771  \u001b[0m | \u001b[95m 0.5342  \u001b[0m | \u001b[95m 0.07756 \u001b[0m | \u001b[95m 0.02465 \u001b[0m |\n",
      "=============================================================\n",
      "{'target': 0.8770949720670391, 'params': {'c_b': 0.5341656110758556, 'gamma': 0.07756336091936933, 'r_a': 0.02464858144757276}}\n"
     ]
    }
   ],
   "source": [
    "def xgbscore_function2(c_b, r_a, gamma) :\n",
    "    xgb_wrapper = XGBClassifier(n_estimators=178, learning_rate=0.06465853014406732, max_depth=3, min_child_weight=1, \n",
    "                                subsample=0.5521541258084046, colsample_bytree=c_b, reg_alpha= r_a, gamma=gamma)\n",
    " \n",
    "    xgb_wrapper.fit(X_train, y_train)\n",
    "    w_preds = xgb_wrapper.predict(X_test)\n",
    "    score = accuracy_score(y_test, w_preds)\n",
    "    return score\n",
    "\n",
    "# Bounded region of parameter space\n",
    "pbounds = {'c_b': (0.5, 1), 'r_a': (0,100), 'gamma':(0,0.5)}\n",
    "\n",
    "optimizer1 = BayesianOptimization(\n",
    "    f=xgbscore_function2,\n",
    "    pbounds=pbounds,\n",
    "    verbose=1, # verbose = 1 prints only when a maximum is observed, verbose = 0 is silent\n",
    "    random_state=1,\n",
    ")\n",
    "\n",
    "optimizer1.maximize(\n",
    "    init_points=3,\n",
    "    n_iter=50,\n",
    ")\n",
    "\n",
    "print(optimizer1.max)"
   ]
  },
  {
   "cell_type": "code",
   "execution_count": 43,
   "metadata": {},
   "outputs": [
    {
     "name": "stdout",
     "output_type": "stream",
     "text": [
      "Best Grid Xgbm accuracy score:0.8771\n",
      "오차 행렬\n",
      "[[103  11]\n",
      " [ 11  54]]\n",
      "정확도: 0.8771, 정밀도: 0.8308, 재현율: 0.8308,    F1: 0.8308, AUC:0.9055\n",
      "              precision    recall  f1-score   support\n",
      "\n",
      "           0       0.90      0.90      0.90       114\n",
      "           1       0.83      0.83      0.83        65\n",
      "\n",
      "    accuracy                           0.88       179\n",
      "   macro avg       0.87      0.87      0.87       179\n",
      "weighted avg       0.88      0.88      0.88       179\n",
      "\n"
     ]
    },
    {
     "data": {
      "text/plain": [
       "<matplotlib.axes._subplots.AxesSubplot at 0x1704e0d6108>"
      ]
     },
     "execution_count": 43,
     "metadata": {},
     "output_type": "execute_result"
    },
    {
     "data": {
      "image/png": "[encoded data removed]",
      "text/plain": [
       "<Figure size 432x288 with 1 Axes>"
      ]
     },
     "metadata": {},
     "output_type": "display_data"
    }
   ],
   "source": [
    "# 베스트 파라미터 모델을 만들고 예측\n",
    "best_xgb = XGBClassifier(n_estimators=178, learning_rate=0.06465853014406732, max_depth=3, min_child_weight=1, subsample=0.5521541258084046,\n",
    "                        colsample_bytree=0.5341656110758556, reg_alpha= 0.02464858144757276, gamma=0.07756336091936933)\n",
    " \n",
    "best_xgb.fit(X_train, y_train)\n",
    "preds = best_xgb.predict(X_test)\n",
    "pred_proba = best_xgb.predict_proba(X_test)[:, 1]\n",
    "\n",
    "print(\"Best Grid Xgbm accuracy score:{0:.4f}\".format(accuracy_score(y_test,preds)))\n",
    "get_clf_eval(y_test , preds, pred_proba)\n",
    "print(classification_report(y_test, preds))\n",
    "xgb.plot_importance(best_xgb)"
   ]
  },
  {
   "cell_type": "markdown",
   "metadata": {},
   "source": [
    "# cross_val_score에 다른 평가 함수를 적용해 보았다.\n",
    "이부분은 다음을 참조할것 https://scikit-learn.org/stable/modules/model_evaluation.html"
   ]
  },
  {
   "cell_type": "code",
   "execution_count": 44,
   "metadata": {},
   "outputs": [
    {
     "name": "stderr",
     "output_type": "stream",
     "text": [
      "C:\\Users\\Professor Lee\\anaconda3\\envs\\tf2\\lib\\site-packages\\sklearn\\model_selection\\_split.py:296: FutureWarning: Setting a random_state has no effect since shuffle is False. This will raise an error in 0.24. You should leave random_state to its default (None), or set shuffle=True.\n",
      "  FutureWarning\n"
     ]
    },
    {
     "name": "stdout",
     "output_type": "stream",
     "text": [
      "|   iter    |  target   |    l_r    |   m_c_w   |    m_d    |    n_e    |    s_s    |\n",
      "-------------------------------------------------------------------------------------\n",
      "| \u001b[95m 2       \u001b[0m | \u001b[95m 0.7964  \u001b[0m | \u001b[95m 0.1803  \u001b[0m | \u001b[95m 15.07   \u001b[0m | \u001b[95m 2.865   \u001b[0m | \u001b[95m 98.89   \u001b[0m | \u001b[95m 0.7204  \u001b[0m |\n",
      "| \u001b[95m 4       \u001b[0m | \u001b[95m 0.8132  \u001b[0m | \u001b[95m 0.01    \u001b[0m | \u001b[95m 0.0     \u001b[0m | \u001b[95m 10.0    \u001b[0m | \u001b[95m 1e+03   \u001b[0m | \u001b[95m 0.5     \u001b[0m |\n",
      "| \u001b[95m 16      \u001b[0m | \u001b[95m 0.8174  \u001b[0m | \u001b[95m 0.01507 \u001b[0m | \u001b[95m 2.137   \u001b[0m | \u001b[95m 9.025   \u001b[0m | \u001b[95m 952.3   \u001b[0m | \u001b[95m 0.5113  \u001b[0m |\n",
      "=====================================================================================\n",
      "{'target': 0.8173894030185914, 'params': {'l_r': 0.015067434118446075, 'm_c_w': 2.1369360975944574, 'm_d': 9.024680799355924, 'n_e': 952.321138844336, 's_s': 0.5113009564658697}}\n"
     ]
    }
   ],
   "source": [
    "from sklearn.model_selection import StratifiedKFold\n",
    "from sklearn.model_selection import cross_val_score\n",
    "\n",
    "kfold = StratifiedKFold(n_splits=3, random_state=5)\n",
    "scores = []\n",
    "def xgbscore_function(n_e, l_r, m_d, m_c_w, s_s) :\n",
    "    xgb_model = XGBClassifier(n_estimators=int(round(n_e)), learning_rate=l_r, max_depth=int(round(m_d)), \n",
    "                                min_child_weight=int(round(m_c_w)), subsample=s_s)\n",
    "    results = cross_val_score(xgb_model, X_train, y_train, cv=kfold, scoring='accuracy')\n",
    "    score = results.mean()\n",
    "    scores.append(score)\n",
    "    return score\n",
    "\n",
    "# Bounded region of parameter space\n",
    "pbounds = {'n_e': (50, 1000), 'l_r': (0.01, 0.2), 'm_d':(1, 10), 'm_c_w':(0,120), 's_s':(0.5,1)}\n",
    "\n",
    "optimizer1 = BayesianOptimization(\n",
    "    f=xgbscore_function,\n",
    "    pbounds=pbounds,\n",
    "    verbose=1, # verbose = 1 prints only when a maximum is observed, verbose = 0 is silent\n",
    "    random_state=3,\n",
    ")\n",
    "\n",
    "optimizer1.maximize(\n",
    "    init_points=3,\n",
    "    n_iter=50,\n",
    ")\n",
    "\n",
    "print(optimizer1.max)"
   ]
  },
  {
   "cell_type": "code",
   "execution_count": null,
   "metadata": {},
   "outputs": [],
   "source": []
  }
 ],
 "metadata": {
  "kernelspec": {
   "display_name": "Python 3",
   "language": "python",
   "name": "python3"
  },
  "language_info": {
   "codemirror_mode": {
    "name": "ipython",
    "version": 3
   },
   "file_extension": ".py",
   "mimetype": "text/x-python",
   "name": "python",
   "nbconvert_exporter": "python",
   "pygments_lexer": "ipython3",
   "version": "3.7.7"
  }
 },
 "nbformat": 4,
 "nbformat_minor": 4
}
